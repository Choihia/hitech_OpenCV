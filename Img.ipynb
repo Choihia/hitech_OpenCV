{
 "cells": [
  {
   "cell_type": "code",
   "execution_count": null,
   "metadata": {},
   "outputs": [],
   "source": [
    "pip install opencv-python"
   ]
  },
  {
   "cell_type": "code",
   "execution_count": 2,
   "metadata": {},
   "outputs": [
    {
     "data": {
      "text/plain": [
       "'4.9.0'"
      ]
     },
     "execution_count": 2,
     "metadata": {},
     "output_type": "execute_result"
    }
   ],
   "source": [
    "import cv2\n",
    "cv2.__version__"
   ]
  },
  {
   "cell_type": "markdown",
   "metadata": {},
   "source": [
    "1. opencv 버전 확인완료"
   ]
  },
  {
   "cell_type": "code",
   "execution_count": 1,
   "metadata": {},
   "outputs": [
    {
     "name": "stderr",
     "output_type": "stream",
     "text": [
      "<>:2: SyntaxWarning: invalid escape sequence '\\P'\n",
      "<>:2: SyntaxWarning: invalid escape sequence '\\P'\n",
      "C:\\Users\\css\\AppData\\Local\\Temp\\ipykernel_17708\\3015127412.py:2: SyntaxWarning: invalid escape sequence '\\P'\n",
      "  img = cv2.imread('C:\\Programing\\Python\\Train.jpg')\n"
     ]
    }
   ],
   "source": [
    "import cv2\n",
    "img = cv2.imread('C:\\Programing\\Python\\Train.jpg')\n",
    "cv2.imshow('img',img)\n",
    "cv2.waitKey(0)\n",
    "cv2.destroyAllWindows()"
   ]
  },
  {
   "cell_type": "markdown",
   "metadata": {},
   "source": [
    "2. 이미지 불러오기 성공"
   ]
  },
  {
   "cell_type": "code",
   "execution_count": 5,
   "metadata": {},
   "outputs": [],
   "source": [
    "import cv2\n",
    "img_color=cv2.imread('Train.jpg',cv2.IMREAD_COLOR)\n",
    "img_gray=cv2.imread('Train.jpg',cv2.IMREAD_GRAYSCALE)\n",
    "img_unchange=cv2.imread('Train.jpg',cv2.IMREAD_UNCHANGED)\n",
    "\n",
    "cv2.imshow('img_color',img_color)\n",
    "cv2.imshow('img_gray',img_gray)\n",
    "cv2.imshow('img_unchange',img_unchange)\n",
    "\n",
    "cv2.waitKey(0)\n",
    "cv2.destroyAllWindows()"
   ]
  },
  {
   "cell_type": "markdown",
   "metadata": {},
   "source": [
    "3. 읽기옵션 \n",
    "컬러, 흑백, 투명영역포함컬러\n",
    "\n",
    "초기오류\n",
    "\n",
    "1.img_gray=cv2.imread('Train.jpg',cv2.IMREAD_GRAY)에서\n",
    "\n",
    "    img_gray=cv2.imread('Train.jpg',cv2.IMREAD_GRAYSCALE)로 수정\n",
    "\n",
    "2.img_unchange=cv2.imread('Train.jpg',cv2.IMREAD_UNCHAGED)에서\n",
    "\n",
    "    img_unchange=cv2.imread('Train.jpg',cv2.IMREAD_UNCHANGED)로 오타수정\n",
    "\n",
    ">>성공"
   ]
  },
  {
   "cell_type": "code",
   "execution_count": 2,
   "metadata": {},
   "outputs": [
    {
     "data": {
      "text/plain": [
       "(477, 640, 3)"
      ]
     },
     "execution_count": 2,
     "metadata": {},
     "output_type": "execute_result"
    }
   ],
   "source": [
    "import cv2\n",
    "img=cv2.imread('Train.jpg')\n",
    "img.shape"
   ]
  },
  {
   "cell_type": "markdown",
   "metadata": {},
   "source": [
    "4. 이미지의 height, width, channel 정보\n",
    "\n",
    "초기오류\n",
    "\n",
    "1.img=cv2.imread('Train.jgp')에서\n",
    "\n",
    "    img=cv2.imread('Train.jpg')로 오타수정\n",
    "\n",
    ">>성공\n",
    "\n"
   ]
  }
 ],
 "metadata": {
  "kernelspec": {
   "display_name": "Python 3",
   "language": "python",
   "name": "python3"
  },
  "language_info": {
   "codemirror_mode": {
    "name": "ipython",
    "version": 3
   },
   "file_extension": ".py",
   "mimetype": "text/x-python",
   "name": "python",
   "nbconvert_exporter": "python",
   "pygments_lexer": "ipython3",
   "version": "3.12.2"
  }
 },
 "nbformat": 4,
 "nbformat_minor": 2
}
